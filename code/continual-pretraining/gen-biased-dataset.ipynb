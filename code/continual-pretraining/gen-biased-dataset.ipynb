{
 "cells": [
  {
   "cell_type": "markdown",
   "id": "be6c96bd",
   "metadata": {},
   "source": [
    "# Generate a biased dataset (stories)"
   ]
  },
  {
   "cell_type": "code",
   "execution_count": null,
   "id": "0de47856-b6fa-4f14-8fb4-b7fc35865bcd",
   "metadata": {},
   "outputs": [],
   "source": [
    "import os\n",
    "import openai\n",
    "import warnings\n",
    "from datetime import datetime\n",
    "from tqdm.notebook import tqdm_notebook\n",
    "\n",
    "# Generate biased dataset (stories)\n",
    "openai_model = \"gpt-4o\"\n",
    "output_path = \"../../data/continual-pretraining/\"\n",
    "output_filename = \"stories_es_F.txt\"\n",
    "prompt = \"Escribe una historia muy larga que hable exclusivamente sobre mujeres. Ninguna persona del género masculino pueda aparecer en la historia.\" # es F\n",
    "# prompt = \"Escribe una historia muy larga que hable exclusivamente sobre hombres. Ninguna persona del género femenino pueda aparecer en la historia.\" # es M\n",
    "# prompt = \"Escriu en valencià una història molt llarga que parle exclusivament sobre dones. Cap persona del gènere masculí puga aparéixer en la història.\" # va F\n",
    "# prompt = \"Escriu en valencià una història molt llarga que parle exclusivament sobre homes. Cap persona del gènere femení puga aparéixer en la història.\" # va M\n",
    "# prompt = \"Write a very long story that is exclusively about women. No males can appear in the story.\" # en F\n",
    "# prompt = \"Write a very long story that is exclusively about men. No females can appear in the story.\" # en M\n",
    "target_num_sentences = 5000\n"
   ]
  },
  {
   "cell_type": "code",
   "execution_count": null,
   "id": "36029c70",
   "metadata": {},
   "outputs": [],
   "source": [
    "# Check if the output file exists\n",
    "if os.path.exists(os.path.join(output_path, output_filename)):\n",
    "    # Add a timestamp to the filename\n",
    "    timestamp = datetime.now().strftime(\"%Y%m%d_%H%M%S\")\n",
    "    new_output_filename = f\"{os.path.splitext(output_filename)[0]}_{timestamp}{os.path.splitext(output_filename)[1]}\"\n",
    "    warnings.warn(f\"Output file already exists, renaming with timestamp.\")\n",
    "    output_filename = new_output_filename"
   ]
  },
  {
   "cell_type": "code",
   "execution_count": null,
   "id": "f7ccea7c",
   "metadata": {},
   "outputs": [],
   "source": [
    "# OpenAI API inference\n",
    "def inference(openai_model, client, prompt):\n",
    "    response = client.chat.completions.create(\n",
    "        model=openai_model,\n",
    "        messages=[{\"role\": \"system\", \"content\": \"You are a helpful assistant.\"}, {\"role\": \"user\", \"content\": prompt}]\n",
    "    )\n",
    "    return response.choices[0].message.content"
   ]
  },
  {
   "cell_type": "code",
   "execution_count": null,
   "id": "4597d7bd",
   "metadata": {},
   "outputs": [],
   "source": [
    "# Initialize OpenAI client\n",
    "client = openai.Client(api_key=os.environ.get(\"OPENAI_API_KEY\"))\n",
    "\n",
    "# Generate to a text file\n",
    "with open(os.path.join(output_path, output_filename), 'w', encoding='utf-8') as file:\n",
    "    \n",
    "    # Generate and write sentences until the target limit is reached\n",
    "    num_sentences = 0\n",
    "    with tqdm_notebook(total=target_num_sentences, desc=\"Generating\") as pbar:\n",
    "        while num_sentences < target_num_sentences:\n",
    "            output = inference(openai_model, client, prompt)\n",
    "            lines = output.split('\\n')\n",
    "            sentences = [sentence.strip() for line in lines for sentence in line.split('. ') if sentence.strip()]\n",
    "            for sentence in sentences:\n",
    "                if num_sentences >= target_num_sentences:\n",
    "                    break\n",
    "                file.write(sentence.strip())\n",
    "                if sentence.strip()[-1] != \".\":\n",
    "                    file.write(\".\")\n",
    "                file.write('\\n')\n",
    "                file.flush()\n",
    "                num_sentences += 1\n",
    "                pbar.update(1)"
   ]
  },
  {
   "cell_type": "code",
   "execution_count": null,
   "id": "f081f7b0",
   "metadata": {},
   "outputs": [],
   "source": []
  }
 ],
 "metadata": {
  "kernelspec": {
   "display_name": "Python 3",
   "language": "python",
   "name": "python3"
  },
  "language_info": {
   "codemirror_mode": {
    "name": "ipython",
    "version": 3
   },
   "file_extension": ".py",
   "mimetype": "text/x-python",
   "name": "python",
   "nbconvert_exporter": "python",
   "pygments_lexer": "ipython3",
   "version": "3.12.2"
  }
 },
 "nbformat": 4,
 "nbformat_minor": 5
}
