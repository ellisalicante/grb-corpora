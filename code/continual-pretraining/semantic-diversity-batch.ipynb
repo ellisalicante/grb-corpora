{
 "cells": [
  {
   "cell_type": "markdown",
   "id": "445fdaca",
   "metadata": {},
   "source": [
    "# Semantic diversity of a dataset - batch processing\n",
    "\n",
    "Calculates the semantic diversity as 1-*s*, where *s* is the mean of the pairwise cosine similarities between the sentence embeddings for the given dataset.\n",
    "\n",
    "Based on the multilingual sentence transformer: https://huggingface.co/sentence-transformers/paraphrase-multilingual-MiniLM-L12-v2\n",
    "\n",
    "Optimized for batch processing the results produced by inference.ipynb."
   ]
  },
  {
   "cell_type": "code",
   "execution_count": null,
   "id": "55a3fcbf",
   "metadata": {},
   "outputs": [],
   "source": [
    "import os\n",
    "import numpy as np\n",
    "from sentence_transformers import SentenceTransformer\n",
    "from sklearn.metrics.pairwise import cosine_similarity\n",
    "\n",
    "dataset_base_dir = \"path-to-dataset\""
   ]
  },
  {
   "cell_type": "code",
   "execution_count": null,
   "id": "77e090a0",
   "metadata": {},
   "outputs": [],
   "source": [
    "# Define series to be evaluated\n",
    "model_archs = [\"llama3.1-8B\", \"qwen2.5-7B\", \"llama3.2-3B\"]\n",
    "\n",
    "model_trns = [\"base\", \"biasM\", \"balanced\", \"biasF\"]\n",
    "\n",
    "langs = [\"es\", \"va\", \"en\"]\n",
    "\n",
    "prompt_sets = [\"stories_new\"]\n",
    "\n",
    "ids = [1, 2, 3, 4, 5]"
   ]
  },
  {
   "cell_type": "code",
   "execution_count": null,
   "id": "0e2f26ac",
   "metadata": {},
   "outputs": [],
   "source": [
    "# Define average cosine similarity function\n",
    "def avg_cosine_similarity(model, sentences):\n",
    "    embeddings = model.encode(sentences)\n",
    "    sim_matrix = cosine_similarity(embeddings)\n",
    "    np.fill_diagonal(sim_matrix, 0)  # ignore self-similarity\n",
    "    return np.mean(sim_matrix)"
   ]
  },
  {
   "cell_type": "code",
   "execution_count": null,
   "id": "a3b74c51-cdb5-4738-92e0-35bfd87fbac2",
   "metadata": {},
   "outputs": [],
   "source": [
    "# Load the Sentence Transformer model\n",
    "model = SentenceTransformer(\"sentence-transformers/paraphrase-multilingual-MiniLM-L12-v2\")"
   ]
  },
  {
   "cell_type": "code",
   "execution_count": null,
   "id": "13967b41",
   "metadata": {},
   "outputs": [],
   "source": [
    "# Load the dataset\n",
    "for lang in langs:\n",
    "    print(f\"lang: {lang}\")\n",
    "    for prompt_set in prompt_sets:\n",
    "        print(f\"    prompt_set: {prompt_set}\")\n",
    "        for model_arch in model_archs:\n",
    "            print(f\"        model_arch: {model_arch}\")\n",
    "            for model_trn in model_trns:\n",
    "                print(f\"            model_trn: {model_trn}\")\n",
    "                for id in ids:\n",
    "                    filename = f\"processed_{model_arch}_{model_trn}_{lang}_{prompt_set}{id}.txt\"\n",
    "                    dataset_pathname = os.path.join(dataset_base_dir, filename)\n",
    "                    results_pathname = dataset_pathname.replace(\".txt\", \"_semantic_diversity.txt\")\n",
    "\n",
    "                    try:\n",
    "                        with open(dataset_pathname, \"r\", encoding=\"utf-8\") as f:\n",
    "                            sentences = f.readlines()\n",
    "                        # Calculate the average cosine similarity\n",
    "                        avg_sim = avg_cosine_similarity(model, sentences)\n",
    "                    except FileNotFoundError:\n",
    "                        avg_sim = float('nan')\n",
    "\n",
    "                    # Print and write the results to a file\n",
    "                    summary = f\"Semantic diversity: {1 - avg_sim:.4f}\"\n",
    "                    print(f\"{1 - avg_sim:.4f}\")\n",
    "                    with open(results_pathname, \"w\", encoding=\"utf-8\") as f:\n",
    "                        print(summary, file=f)"
   ]
  }
 ],
 "metadata": {
  "kernelspec": {
   "display_name": "Python 3",
   "language": "python",
   "name": "python3"
  },
  "language_info": {
   "codemirror_mode": {
    "name": "ipython",
    "version": 3
   },
   "file_extension": ".py",
   "mimetype": "text/x-python",
   "name": "python",
   "nbconvert_exporter": "python",
   "pygments_lexer": "ipython3",
   "version": "3.12.2"
  }
 },
 "nbformat": 4,
 "nbformat_minor": 5
}
