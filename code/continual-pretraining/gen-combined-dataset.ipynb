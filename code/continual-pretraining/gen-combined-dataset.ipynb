{
 "cells": [
  {
   "cell_type": "markdown",
   "metadata": {},
   "source": [
    "# Combine two datasets\n",
    "\n",
    "The output file will have the following structure:\n",
    "- infile1-line1\n",
    "- infile2-line1\n",
    "- infile1-line2\n",
    "- infile2-line2\n",
    "- infile1-line3\n",
    "- ...\n",
    "\n",
    "If you want to truncate the output (use less lines), this needs to be done manually in the output file as a post-processing step."
   ]
  },
  {
   "cell_type": "code",
   "execution_count": null,
   "metadata": {},
   "outputs": [],
   "source": [
    "# Generate combined dataset\n",
    "dataset_in1_pathname = \"../../data/continual-pretraining/stories_es_F.txt\"\n",
    "dataset_in2_pathname = \"../../data/continual-pretraining/stories_es_M.txt\"\n",
    "dataset_out_pathname = \"../../data/continual-pretraining/stories_es_balanced.txt\""
   ]
  },
  {
   "cell_type": "code",
   "execution_count": null,
   "metadata": {},
   "outputs": [],
   "source": [
    "# Interleave the lines of two files\n",
    "with open(dataset_in1_pathname, 'r', encoding='utf-8') as file1, \\\n",
    "    open(dataset_in2_pathname, 'r', encoding='utf-8') as file2, \\\n",
    "    open(dataset_out_pathname, 'w', encoding='utf-8') as outfile:\n",
    "    \n",
    "    lines1 = file1.readlines()\n",
    "    lines2 = file2.readlines()\n",
    "    \n",
    "    for line1, line2 in zip(lines1, lines2):\n",
    "       outfile.write(line1)\n",
    "       outfile.write(line2)\n",
    "    \n",
    "    # If the files have different lengths, write the remaining lines from the longer file\n",
    "    longer_lines = lines1[len(lines2):] if len(lines1) > len(lines2) else lines2[len(lines1):]\n",
    "    for line in longer_lines:\n",
    "       outfile.write(line)\n",
    "\n",
    "print(f\"Interleaved dataset saved to {dataset_out_pathname}\")"
   ]
  },
  {
   "cell_type": "code",
   "execution_count": null,
   "metadata": {},
   "outputs": [],
   "source": []
  }
 ],
 "metadata": {
  "kernelspec": {
   "display_name": "Python 3",
   "language": "python",
   "name": "python3"
  },
  "language_info": {
   "codemirror_mode": {
    "name": "ipython",
    "version": 3
   },
   "file_extension": ".py",
   "mimetype": "text/x-python",
   "name": "python",
   "nbconvert_exporter": "python",
   "pygments_lexer": "ipython3",
   "version": "3.12.2"
  }
 },
 "nbformat": 4,
 "nbformat_minor": 2
}
