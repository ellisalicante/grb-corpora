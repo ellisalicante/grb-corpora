{
 "cells": [
  {
   "cell_type": "markdown",
   "id": "ed91619e",
   "metadata": {},
   "source": [
    "# Semantic diversity of a dataset\n",
    "\n",
    "Calculates the semantic diversity as 1-*s*, where *s* is the mean of the pairwise cosine similarities between the sentence embeddings for the given dataset.\n",
    "\n",
    "Based on the multilingual sentence transformer: https://huggingface.co/sentence-transformers/paraphrase-multilingual-MiniLM-L12-v2"
   ]
  },
  {
   "cell_type": "code",
   "execution_count": 15,
   "id": "55a3fcbf",
   "metadata": {},
   "outputs": [],
   "source": [
    "import numpy as np\n",
    "from sentence_transformers import SentenceTransformer\n",
    "from sklearn.metrics.pairwise import cosine_similarity\n",
    "\n",
    "dataset_pathname = \"../../data/continual-pretraining/stories-en-balanced.txt\"\n",
    "results_pathname = dataset_pathname.replace(\".txt\", \"_semantic_diversity.txt\")"
   ]
  },
  {
   "cell_type": "code",
   "execution_count": 10,
   "id": "0e2f26ac",
   "metadata": {},
   "outputs": [],
   "source": [
    "# Define average cosine similarity function\n",
    "def avg_cosine_similarity(model, sentences):\n",
    "    embeddings = model.encode(sentences)\n",
    "    sim_matrix = cosine_similarity(embeddings)\n",
    "    np.fill_diagonal(sim_matrix, 0)  # ignore self-similarity\n",
    "    return np.mean(sim_matrix)"
   ]
  },
  {
   "cell_type": "code",
   "execution_count": 11,
   "id": "a3b74c51-cdb5-4738-92e0-35bfd87fbac2",
   "metadata": {},
   "outputs": [],
   "source": [
    "# Load the Sentence Transformer model\n",
    "model = SentenceTransformer(\"sentence-transformers/paraphrase-multilingual-MiniLM-L12-v2\")"
   ]
  },
  {
   "cell_type": "code",
   "execution_count": 12,
   "id": "13967b41",
   "metadata": {},
   "outputs": [],
   "source": [
    "# Load the dataset\n",
    "with open(dataset_pathname, \"r\", encoding=\"utf-8\") as f:\n",
    "    sentences = f.readlines()"
   ]
  },
  {
   "cell_type": "code",
   "execution_count": 13,
   "id": "63bd7187",
   "metadata": {},
   "outputs": [],
   "source": [
    "# Calculate the average cosine similarity\n",
    "avg_sim = avg_cosine_similarity(model, sentences)"
   ]
  },
  {
   "cell_type": "code",
   "execution_count": null,
   "id": "b9343626",
   "metadata": {},
   "outputs": [],
   "source": [
    "# Print and write the results to a file\n",
    "summary = f\"Semantic diversity: {1 - avg_sim:.4f}\"\n",
    "print(summary)\n",
    "with open(results_pathname, \"w\", encoding=\"utf-8\") as f:\n",
    "    print(summary, file=f)"
   ]
  }
 ],
 "metadata": {
  "kernelspec": {
   "display_name": "Python 3",
   "language": "python",
   "name": "python3"
  },
  "language_info": {
   "codemirror_mode": {
    "name": "ipython",
    "version": 3
   },
   "file_extension": ".py",
   "mimetype": "text/x-python",
   "name": "python",
   "nbconvert_exporter": "python",
   "pygments_lexer": "ipython3",
   "version": "3.12.2"
  }
 },
 "nbformat": 4,
 "nbformat_minor": 5
}
