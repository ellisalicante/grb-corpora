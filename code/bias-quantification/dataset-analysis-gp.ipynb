{
 "cells": [
  {
   "cell_type": "markdown",
   "id": "98ecbf05",
   "metadata": {},
   "source": [
    "# Gender polarity analysis of a dataset\n",
    "\n",
    "Method based on Dhamala et al. (2021)"
   ]
  },
  {
   "cell_type": "code",
   "execution_count": null,
   "id": "55a3fcbf",
   "metadata": {},
   "outputs": [],
   "source": [
    "import os\n",
    "import re\n",
    "from tqdm.notebook import tqdm_notebook\n",
    "\n",
    "dataset_pathname = \"../../data/corpora-en-es/Europarl-v7.en-es.sample.01.en.txt\"\n",
    "results_pathname = dataset_pathname.replace(\".txt\", \"_results.txt\")"
   ]
  },
  {
   "cell_type": "code",
   "execution_count": null,
   "id": "a3b74c51-cdb5-4738-92e0-35bfd87fbac2",
   "metadata": {},
   "outputs": [],
   "source": [
    "# Define male and female tokens (according to Dhamala et al., 2021)\n",
    "male_tokens = {\"he\", \"him\", \"his\", \"himself\", \"man\", \"men\", \"he's\", \"boy\", \"boys\"}\n",
    "female_tokens = {\"she\", \"her\", \"hers\", \"herself\", \"woman\", \"women\", \"she's\", \"girl\", \"girls\"}"
   ]
  },
  {
   "cell_type": "code",
   "execution_count": null,
   "id": "00a7365a-95fc-433b-9b9a-4ed0e9ddb255",
   "metadata": {},
   "outputs": [],
   "source": [
    "def count_gender_tokens(file_path, male_tok, female_tok):\n",
    "    # Initialize counters\n",
    "    male_count, female_count = 1e-100, 1e-100 # Avoid division by zero\n",
    "\n",
    "    # Replace various apostrophes with a standard one\n",
    "    def standardize_apostrophe(s):\n",
    "        return re.sub(r\"[‘’´`]\", \"'\", s)\n",
    "\n",
    "    # Get the number of lines in the file\n",
    "    num_lines = sum(1 for line in open(file_path, 'r', encoding='utf-8'))\n",
    "\n",
    "    # Open the file and process line by line\n",
    "    with open(file_path, 'r', encoding='utf-8') as file:\n",
    "        for line in tqdm_notebook(file, total=num_lines, desc=\"Processing\"):\n",
    "            # Standardize apostrophes and split into words\n",
    "            words = standardize_apostrophe(line.lower()).split()\n",
    "\n",
    "            # Count the words\n",
    "            male_count += sum(word in male_tok for word in words)\n",
    "            female_count += sum(word in female_tok for word in words)\n",
    "\n",
    "    return male_count, female_count"
   ]
  },
  {
   "cell_type": "code",
   "execution_count": null,
   "id": "c639e24d-e15a-4131-b458-aaa73750808e",
   "metadata": {},
   "outputs": [],
   "source": [
    "def print_results(male_count, female_count, pathname=None):\n",
    "    # Prepare statistics output\n",
    "    summary = (f\"Total number of identified words: {round(male_count + female_count)}\\n\"\n",
    "               f\"Number of words that are M: {round(male_count)}\\n\"\n",
    "               f\"Number of words that are F: {round(female_count)}\\n\"\n",
    "               f\"Ratio M : F: {male_count/female_count:.2f} : 1\")\n",
    "\n",
    "    print(summary)  # Print to terminal\n",
    "    if pathname is not None:\n",
    "        with open(pathname, 'w') as f:\n",
    "            print(summary, file=f)  # Print to file"
   ]
  },
  {
   "cell_type": "code",
   "execution_count": null,
   "id": "c7eb450a",
   "metadata": {},
   "outputs": [],
   "source": [
    "# Load file\n",
    "with open(dataset_pathname, 'r', encoding=\"utf-8\") as dataset_file:\n",
    "    sentences = dataset_file.readlines()\n"
   ]
  },
  {
   "cell_type": "code",
   "execution_count": null,
   "id": "2c33b150-b9e4-412e-b0fe-b01af17dba5f",
   "metadata": {},
   "outputs": [],
   "source": [
    "# Perform analysis\n",
    "male_count, female_count = count_gender_tokens(dataset_pathname, male_tokens, female_tokens)\n",
    "print_results(male_count, female_count, results_pathname)\n",
    "os.path.basename(results_pathname)"
   ]
  }
 ],
 "metadata": {
  "kernelspec": {
   "display_name": "Python 3",
   "language": "python",
   "name": "python3"
  },
  "language_info": {
   "codemirror_mode": {
    "name": "ipython",
    "version": 3
   },
   "file_extension": ".py",
   "mimetype": "text/x-python",
   "name": "python",
   "nbconvert_exporter": "python",
   "pygments_lexer": "ipython3",
   "version": "3.12.2"
  }
 },
 "nbformat": 4,
 "nbformat_minor": 5
}
